{
 "cells": [
  {
   "cell_type": "markdown",
   "metadata": {},
   "source": [
    "## Exercice 1 "
   ]
  },
  {
   "cell_type": "code",
   "execution_count": 17,
   "metadata": {},
   "outputs": [
    {
     "name": "stdout",
     "output_type": "stream",
     "text": [
      "10\n",
      "2\n",
      "24\n"
     ]
    }
   ],
   "source": [
    "class Rectangle:\n",
    "    def __init__(self, longueur, largeur):\n",
    "        self.longueur = longueur\n",
    "        self.largeur = largeur\n",
    "        \n",
    "    def perimetre(self):\n",
    "        return (self.longueur + self.largeur)*2\n",
    "    \n",
    "    def surface(self):\n",
    "        return (self.longueur * self.largeur)\n",
    "    \n",
    "    def getLongueur(self):\n",
    "        return self.longueur\n",
    "        \n",
    "    def getLargeur(self):\n",
    "        return self.largeur\n",
    "\n",
    "class Parallelepipede(Rectangle):\n",
    "    def __init__(self, longueur, largeur, hauteur):\n",
    "        super().__init__(longueur, largeur)\n",
    "        self.hauteur = hauteur\n",
    "        \n",
    "    def volume(self):\n",
    "        return self.longueur * self.largeur * self.hauteur\n",
    "    \n",
    "\n",
    "monRect = Rectangle(2,3)\n",
    "print(monRect.perimetre())\n",
    "\n",
    "monPave = Parallelepipede(2,3,4)\n",
    "print(monPave.getLongueur())\n",
    "print(monPave.volume())"
   ]
  },
  {
   "cell_type": "markdown",
   "metadata": {},
   "source": [
    "## Exercice 2"
   ]
  },
  {
   "cell_type": "code",
   "execution_count": 35,
   "metadata": {},
   "outputs": [
    {
     "name": "stdout",
     "output_type": "stream",
     "text": [
      "Affichage du premier vecteur :\n",
      "x : 3 y : 5\n",
      "Affichage du second veteur :\n",
      "x : 2 y : 4\n",
      "Affichage du premier vecteur après addition avec le second :\n",
      "x : 5 y : 9\n"
     ]
    }
   ],
   "source": [
    "class Vecteur2D:\n",
    "    def __init__(self, x, y):\n",
    "        self.x = x\n",
    "        self.y = y\n",
    "    def affichage(self):\n",
    "        print(\"x :\", self.x, \"y :\", self.y)\n",
    "    def __add__(self, other):\n",
    "        self.x += other.x\n",
    "        self.y += other.y\n",
    "        \n",
    "vect2d = Vecteur2D(3,5)\n",
    "vect2d2 = Vecteur2D(2,4)\n",
    "print(\"Affichage du premier vecteur :\")\n",
    "vect2d.affichage()\n",
    "print(\"Affichage du second veteur :\")\n",
    "vect2d2.affichage()\n",
    "\n",
    "vect2d + vect2d2\n",
    "print(\"Affichage du premier vecteur après addition avec le second :\")\n",
    "vect2d.affichage()\n",
    "        \n",
    "    "
   ]
  },
  {
   "cell_type": "markdown",
   "metadata": {},
   "source": [
    "## Exercice 3"
   ]
  },
  {
   "cell_type": "code",
   "execution_count": 45,
   "metadata": {},
   "outputs": [
    {
     "name": "stdout",
     "output_type": "stream",
     "text": [
      "\n",
      "Etat de la pile:\n",
      "|\t2\t|\n",
      "\n",
      "\n",
      "Etat de la pile:\n",
      "|\t4\t|\n",
      "|\t2\t|\n",
      "\n",
      "\n",
      "Etat de la pile:\n",
      "|\t2\t|\n",
      "\n"
     ]
    }
   ],
   "source": [
    "class Pile:\n",
    "    def __init__(self):\n",
    "        self.elts = []\n",
    "\n",
    "    def push(self, elt):\n",
    "        self.elts.append(elt)\n",
    "\n",
    "    def pop(self):\n",
    "        if self.elts:\n",
    "            return self.elts.pop()\n",
    "\n",
    "    def __str__(self):\n",
    "        ch = ''\n",
    "        for x in self.elts:\n",
    "            ch = \"|\\t\" + str(x) + \"\\t|\" + \"\\n\" + ch\n",
    "        ch = \"\\nEtat de la pile:\\n\" + ch\n",
    "        return ch\n",
    "    \n",
    "pile1 = Pile()\n",
    "pile1.push(2)\n",
    "print(pile1)\n",
    "pile1.push(4)\n",
    "print(pile1)\n",
    "pile1.pop()\n",
    "print(pile1)\n"
   ]
  },
  {
   "cell_type": "code",
   "execution_count": 53,
   "metadata": {},
   "outputs": [
    {
     "name": "stdout",
     "output_type": "stream",
     "text": [
      "\n",
      "Etat de la file:\n",
      "|\t2\t|\n",
      "\n",
      "\n",
      "Etat de la file:\n",
      "|\t2\t|\n",
      "|\t4\t|\n",
      "\n",
      "\n",
      "Etat de la file:\n",
      "|\t2\t|\n",
      "\n"
     ]
    }
   ],
   "source": [
    "class File: \n",
    "    def __init__(self):\n",
    "        self.elts = []\n",
    "\n",
    "    def push(self, elt):\n",
    "        self.elts.insert(0,elt)\n",
    "\n",
    "    def pop(self):\n",
    "        if self.elts:\n",
    "            return self.elts.pop(0)\n",
    "\n",
    "    def __str__(self):\n",
    "        ch = ''\n",
    "        for x in self.elts:\n",
    "            ch = \"|\\t\" + str(x) + \"\\t|\" + \"\\n\" + ch\n",
    "        ch = \"\\nEtat de la file:\\n\" + ch\n",
    "        return ch\n",
    "    \n",
    "    \n",
    "file1 = File()\n",
    "file1.push(2)\n",
    "print(file1)\n",
    "file1.push(4)\n",
    "print(file1)\n",
    "file1.pop()\n",
    "print(file1)\n"
   ]
  },
  {
   "cell_type": "markdown",
   "metadata": {},
   "source": [
    "## Exercice 4"
   ]
  },
  {
   "cell_type": "code",
   "execution_count": 57,
   "metadata": {},
   "outputs": [
    {
     "ename": "IndentationError",
     "evalue": "expected an indented block (<ipython-input-57-20290bbdd079>, line 10)",
     "output_type": "error",
     "traceback": [
      "\u001b[1;36m  File \u001b[1;32m\"<ipython-input-57-20290bbdd079>\"\u001b[1;36m, line \u001b[1;32m10\u001b[0m\n\u001b[1;33m    man1 = Mandelbrot()\u001b[0m\n\u001b[1;37m                       ^\u001b[0m\n\u001b[1;31mIndentationError\u001b[0m\u001b[1;31m:\u001b[0m expected an indented block\n"
     ]
    }
   ],
   "source": [
    "import matplotlib\n",
    "class Mandelbrot:\n",
    "    def __init__(self):\n",
    "        pass\n",
    "    def f(self,z,c):\n",
    "        return(z**2+c)\n",
    "    def iterer(c):       \n",
    "        \n",
    "\n",
    "man1 = Mandelbrot()\n",
    "print(man1.f(3,3))"
   ]
  }
 ],
 "metadata": {
  "kernelspec": {
   "display_name": "Python 3",
   "language": "python",
   "name": "python3"
  },
  "language_info": {
   "codemirror_mode": {
    "name": "ipython",
    "version": 3
   },
   "file_extension": ".py",
   "mimetype": "text/x-python",
   "name": "python",
   "nbconvert_exporter": "python",
   "pygments_lexer": "ipython3",
   "version": "3.7.6"
  }
 },
 "nbformat": 4,
 "nbformat_minor": 4
}
